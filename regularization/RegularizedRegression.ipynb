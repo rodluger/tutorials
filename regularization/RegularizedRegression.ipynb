{
 "cells": [
  {
   "cell_type": "markdown",
   "metadata": {},
   "source": [
    "# Regularization"
   ]
  },
  {
   "cell_type": "markdown",
   "metadata": {},
   "source": [
    "## Install"
   ]
  },
  {
   "cell_type": "code",
   "execution_count": null,
   "metadata": {},
   "outputs": [],
   "source": [
    "!pip install scipy pandas ipywidgets celerite > /dev/null"
   ]
  },
  {
   "cell_type": "markdown",
   "metadata": {},
   "source": [
    "## Imports"
   ]
  },
  {
   "cell_type": "code",
   "execution_count": null,
   "metadata": {},
   "outputs": [],
   "source": [
    "%matplotlib inline"
   ]
  },
  {
   "cell_type": "code",
   "execution_count": null,
   "metadata": {},
   "outputs": [],
   "source": [
    "import matplotlib.pyplot as plt\n",
    "import numpy as np"
   ]
  },
  {
   "cell_type": "markdown",
   "metadata": {},
   "source": [
    "## ``Problem 1`` Interactive polynomial fitting"
   ]
  },
  {
   "cell_type": "markdown",
   "metadata": {},
   "source": [
    "In this problem, we'll interactively explore the idea of regularization in the context of a very simple model: fitting a polynomial to some data."
   ]
  },
  {
   "cell_type": "markdown",
   "metadata": {},
   "source": [
    "### Get the data"
   ]
  },
  {
   "cell_type": "markdown",
   "metadata": {},
   "source": [
    "We'll call the function ``get_problem1_data`` in the ``regularization`` module (located in the same directory as this notebook) to get the dataset we'll need. Whenever importing a function from that module, it's a good idea to print its docstring to see what it does."
   ]
  },
  {
   "cell_type": "code",
   "execution_count": null,
   "metadata": {},
   "outputs": [],
   "source": [
    "from regularization import get_problem1_data\n",
    "print(get_problem1_data.__doc__)"
   ]
  },
  {
   "cell_type": "code",
   "execution_count": null,
   "metadata": {},
   "outputs": [],
   "source": [
    "data = get_problem1_data()"
   ]
  },
  {
   "cell_type": "markdown",
   "metadata": {},
   "source": [
    "As advertised, we have our data arrays ``x`` and ``y`` and boolean masks telling us whether each data point is in the *training* set or the *test* set:"
   ]
  },
  {
   "cell_type": "code",
   "execution_count": null,
   "metadata": {},
   "outputs": [],
   "source": [
    "data.head()"
   ]
  },
  {
   "cell_type": "markdown",
   "metadata": {},
   "source": [
    "### Fitting a polynomial to data"
   ]
  },
  {
   "cell_type": "markdown",
   "metadata": {},
   "source": [
    "The ``regularization`` module provides an interactive widget to visualize this dataset. Let's import it:"
   ]
  },
  {
   "cell_type": "code",
   "execution_count": null,
   "metadata": {},
   "outputs": [],
   "source": [
    "from regularization import interact\n",
    "print(interact.__doc__)"
   ]
  },
  {
   "cell_type": "markdown",
   "metadata": {},
   "source": [
    "The following cell plots the training set (black points), which we fit with a polynomial (blue curve). The slider at the bottom of the plot controls the highest order of the polynomial, ranging from 0 to 50. \n",
    "\n",
    "Play around with the slider to get a sense of how the order affects the quality of the fit. The value of the loss (computed using the reduced chi-squared metric) for the training set is shown at the top right. Below that, we show the (log of the absolute value of the) coefficients of the fit.\n",
    "\n",
    "**``Problem 1A``** What effect does increasing the order of the fit have on the training loss? Which value of the order minimizes the loss? Does that \"look\" like a good fit to you? Why or why not?"
   ]
  },
  {
   "cell_type": "code",
   "execution_count": null,
   "metadata": {},
   "outputs": [],
   "source": [
    "interact(data)"
   ]
  },
  {
   "cell_type": "markdown",
   "metadata": {},
   "source": [
    "### Regularizing the fit: limiting the order of the fit"
   ]
  },
  {
   "cell_type": "markdown",
   "metadata": {},
   "source": [
    "You may have noticed that increasing the order of the fit leads to extreme oscillations in our model. This is *almost always* a bad thing, as it's a pretty good sign that the model is **overfitting** the data. We can see overfitting in action by plotting the remainder of our dataset (the test points), which we held out in the previous exercise.\n",
    "\n",
    "Executing the following cell will plot the test set (in orange) and show the value of the loss computed for the test set. Since the test points are unknown to the model (the model is trained exclusively on the training points), the value of the test loss is a good metric to gauge overfitting.\n",
    "\n",
    "**``Problem 1B``** What happens to the value of the test loss as the order of the polynomial is increased? Is the behavior monotonic? What is the polynomial order that minimizes the test loss? Is it the same value that minimizes the training loss? Why?\n",
    "\n",
    "**``Problem 1C``** In this example, we can prevent overfitting by keeping the order of polynomial fit small. But if the order is *too* small, we'll experience the opposite effect of **underfitting**. Is there a particular order that leads to a \"good-looking\" model that balances overfitting and underfitting?"
   ]
  },
  {
   "cell_type": "code",
   "execution_count": null,
   "metadata": {},
   "outputs": [],
   "source": [
    "interact(data, plot_test_set=True)"
   ]
  },
  {
   "cell_type": "markdown",
   "metadata": {},
   "source": [
    "### Regularizing the fit: L2"
   ]
  },
  {
   "cell_type": "markdown",
   "metadata": {},
   "source": [
    "To prevent overfitting, there are other things we can do besides limiting the order of our model (or, equivalently, the number of regressors). The next cell applies L2 regularization to our linear fit, so there's an extra slider at the bottom controlling the log of the strength of the regularization term (which we call $\\lambda$).\n",
    "\n",
    "**``Problem 1D``** Play around with different values of the polynomial order and ``log_lambda``, and comment on the values that minimize the training loss and test loss. As the L2 regularization strength is increased, what happens to the value of the model weights? Discuss."
   ]
  },
  {
   "cell_type": "code",
   "execution_count": null,
   "metadata": {},
   "outputs": [],
   "source": [
    "interact(data, plot_test_set=True, regularize=\"l2\")"
   ]
  },
  {
   "cell_type": "markdown",
   "metadata": {},
   "source": [
    "### Regularizing the fit: L1"
   ]
  },
  {
   "cell_type": "markdown",
   "metadata": {},
   "source": [
    "There are many other ways to perform regularization. A common alternative to L2 is the L1 penalty, which is also controlled by a parameter called $\\lambda$.\n",
    "\n",
    "**``Problem 1E``** Play around with different values of the polynomial order and ``log_lambda``, and comment on the values that minimize the training loss and test loss. As the L1 regularization strength is increased, what happens to the value of the model weights? How is this different from L2 regularization? Discuss."
   ]
  },
  {
   "cell_type": "code",
   "execution_count": null,
   "metadata": {},
   "outputs": [],
   "source": [
    "interact(data, plot_test_set=True, regularize=\"l1\")"
   ]
  },
  {
   "cell_type": "markdown",
   "metadata": {},
   "source": [
    "## ``Problem 2`` Cross-validation"
   ]
  },
  {
   "cell_type": "markdown",
   "metadata": {},
   "source": [
    "In the previous problem, we tried to gauge the \"correct\" amount of regularization to apply by looking at the performance of the model on the test set. We can formalize this approach with a tecnhique known as **cross validation**, in which we find the value of the regularization parameter that minimizes the loss on held out data.\n",
    "\n",
    "Let's import two more functions for this problem:"
   ]
  },
  {
   "cell_type": "code",
   "execution_count": null,
   "metadata": {},
   "outputs": [],
   "source": [
    "from regularization import poly_design_matrix\n",
    "print(poly_design_matrix.__doc__)"
   ]
  },
  {
   "cell_type": "code",
   "execution_count": null,
   "metadata": {},
   "outputs": [],
   "source": [
    "from regularization import get_cv_loss\n",
    "print(get_cv_loss.__doc__)"
   ]
  },
  {
   "cell_type": "markdown",
   "metadata": {},
   "source": [
    "We'll start by doing some **very simple** cross-validation to find the ideal polynomial order (in the absence of L2 or L1 regularization). The idea is to iterate over all 50 values of the polynomial order and for each one compute the corresponding design matrix ``A`` and pass that to ``get_cv_loss`` to compute the corresponding cross-validation loss. For simplicity, we'll use the same division between training and test data as we did above. (If we wanted to make our model more robust, we could compute the cross-validation losses for many different partitions between training and test data, and draw conclusions from the average.)\n",
    "\n",
    "**``Problem 2A``** Inspect the code below and execute the cell. Comment on the behavior of the training loss and test loss as the polynomial order is increased. What's the best value of the polynomial order? Is this consistent with what you found in Problem 1C?"
   ]
  },
  {
   "cell_type": "code",
   "execution_count": null,
   "metadata": {},
   "outputs": [],
   "source": [
    "# Compute the train and test loss\n",
    "poly_order = np.arange(1, 50)\n",
    "train_loss = np.zeros_like(poly_order, dtype=float)\n",
    "test_loss = np.zeros_like(poly_order, dtype=float)\n",
    "for n in range(len(poly_order)):\n",
    "    A = poly_design_matrix(data[\"x\"], poly_order[n])\n",
    "    train_loss[n], test_loss[n] = get_cv_loss(data, A, regularize=\"none\")\n",
    "\n",
    "# Find index of best loss for the train & test sets\n",
    "best_train_idx = np.argmin(train_loss)\n",
    "best_test_idx = np.argmin(test_loss)\n",
    "\n",
    "# Plot\n",
    "fig, ax = plt.subplots(2, figsize=(12, 8), sharex=True)\n",
    "ax[0].plot(poly_order, np.log10(train_loss))\n",
    "ax[1].plot(poly_order, np.log10(test_loss), \"C1\")\n",
    "ax[0].axvline(poly_order[best_train_idx], color=\"k\")\n",
    "ax[1].axvline(poly_order[best_test_idx], color=\"k\")\n",
    "ax[1].set_xlabel(\"polynomial order\", fontsize=20)\n",
    "ax[0].set_ylabel(\"log train loss\", fontsize=20)\n",
    "ax[1].set_ylabel(\"log test loss\", fontsize=20);"
   ]
  },
  {
   "cell_type": "markdown",
   "metadata": {},
   "source": [
    "**``Problem 2B``** Repeat the cross-validation exercise for the L2 loss. Fix the polynomial design matrix order at ``50`` and iterate over different values of ``log_lam`` spanning the range ``(-18, 3)``, then plot the training loss and test loss as a function of ``log_lam``. Comment on the overall shape of the test loss. What is the optimal value of the regularization strength? What is the corresponding test loss?"
   ]
  },
  {
   "cell_type": "markdown",
   "metadata": {},
   "source": [
    "**``Problem 2C``** Repeat Problem 2B, but for the L1 loss."
   ]
  },
  {
   "cell_type": "markdown",
   "metadata": {},
   "source": [
    "## ``Problem 3`` Searching for an exoplanet transit\n",
    "\n",
    "Below we will analyze a light curve of a star collected with a fictitious telescope. We suspect that there is an exoplanet transit hiding somewhere in the dataset, but unfortunately the light curve is dominated by instrument systematics.\n",
    "\n",
    "Your task is to find the transit and report the approximate time of transit and transit depth (in ppm).\n",
    "\n",
    "Let's import the relevant function:"
   ]
  },
  {
   "cell_type": "code",
   "execution_count": null,
   "metadata": {},
   "outputs": [],
   "source": [
    "from regularization import get_problem3_data\n",
    "print(get_problem3_data.__doc__)"
   ]
  },
  {
   "cell_type": "markdown",
   "metadata": {},
   "source": [
    "Below we plot the flux as a function of time:"
   ]
  },
  {
   "cell_type": "code",
   "execution_count": null,
   "metadata": {},
   "outputs": [],
   "source": [
    "# Load the data\n",
    "data = get_problem3_data()\n",
    "\n",
    "# Plot it\n",
    "fig, ax = plt.subplots(1, figsize=(12, 4))\n",
    "ax.plot(data[\"x\"], data[\"y\"], 'k.', alpha=0.3, ms=2)\n",
    "ax.set_ylabel(\"relative flux [ppm]\")\n",
    "ax.set_xlabel(\"time [days]\");"
   ]
  },
  {
   "cell_type": "markdown",
   "metadata": {},
   "source": [
    "There are lots of features that look transit-like! Normally we'd be at a loss, but fortunately we have access to a few telescope housekeeping variables that we suspect correlate with the systematics component of the light curve. Let's take a look at the data frame:"
   ]
  },
  {
   "cell_type": "code",
   "execution_count": null,
   "metadata": {},
   "outputs": [],
   "source": [
    "data.head()"
   ]
  },
  {
   "cell_type": "markdown",
   "metadata": {},
   "source": [
    "We can construct a design matrix out of these housekeeping variables as follows:"
   ]
  },
  {
   "cell_type": "code",
   "execution_count": null,
   "metadata": {},
   "outputs": [],
   "source": [
    "# Construct the design matrix\n",
    "A = np.hstack(\n",
    "    (\n",
    "        np.array(data[\"temperature\"]).reshape(-1, 1),\n",
    "        np.array(data[\"cloudiness\"]).reshape(-1, 1),\n",
    "        np.array(data[\"psf_stability\"]).reshape(-1, 1),\n",
    "        np.array(data[\"humidity\"]).reshape(-1, 1),\n",
    "        np.array(data[\"air_pressure\"]).reshape(-1, 1),\n",
    "    )\n",
    ")"
   ]
  },
  {
   "cell_type": "markdown",
   "metadata": {},
   "source": [
    "This is analogous to the polynomial design matrix we used in the previous problems, but this time our regressors correspond to actual physically-motivated quantities (instead of just a standard basis of polynomials).\n",
    "\n",
    "Here's what each of the components looks like:"
   ]
  },
  {
   "cell_type": "code",
   "execution_count": null,
   "metadata": {},
   "outputs": [],
   "source": [
    "fig, ax = plt.subplots(1, figsize=(12, 4))\n",
    "ax.plot(data[\"x\"], A)\n",
    "ax.set_ylabel(\"regressor amplitude\")\n",
    "ax.set_xlabel(\"time [days]\");"
   ]
  },
  {
   "cell_type": "markdown",
   "metadata": {},
   "source": [
    "In the following problem, we'll do a simple linear regression using the following function:"
   ]
  },
  {
   "cell_type": "code",
   "execution_count": null,
   "metadata": {},
   "outputs": [],
   "source": [
    "from regularization import lstsq\n",
    "print(lstsq.__doc__)"
   ]
  },
  {
   "cell_type": "markdown",
   "metadata": {},
   "source": [
    "**``Problem 3A``** Perform a simple linear regression using this design matrix to construct your best fit model of the light curve systematics. Then have a look at the residuals: can you see the transit? What is the approximate time of transit (in days) and depth (in ppm)? Why did we not need to explicitly add regularization in this case?"
   ]
  },
  {
   "cell_type": "markdown",
   "metadata": {},
   "source": [
    "## ``Problem 4`` Searching for an exoplanet transit: many regressors\n",
    "\n",
    "Now suppose we have a different telescope with lots of systematics, but this time we have **hundreds** of housekeeping variables that could correlate with our systematics. As in the previous problem, we think there's a transit hiding somewhere in the light curve. Below we will de-trend the dataset using all of the housekeeping variables and attempt to find the transit."
   ]
  },
  {
   "cell_type": "code",
   "execution_count": null,
   "metadata": {},
   "outputs": [],
   "source": [
    "from regularization import get_problem4_data\n",
    "print(get_problem4_data.__doc__)"
   ]
  },
  {
   "cell_type": "markdown",
   "metadata": {},
   "source": [
    "Let's load the dataset and inspect it:"
   ]
  },
  {
   "cell_type": "code",
   "execution_count": null,
   "metadata": {},
   "outputs": [],
   "source": [
    "# Load the data\n",
    "data = get_problem4_data()\n",
    "\n",
    "# Get the design matrix\n",
    "A = np.hstack([np.array(data[\"A%03d\" % n]).reshape(-1, 1) for n in range(500)])\n",
    "\n",
    "# Plot it\n",
    "fig, ax = plt.subplots(1, figsize=(12, 4))\n",
    "ax.plot(data[\"x\"], data[\"y\"], 'k.', alpha=0.3, ms=2)\n",
    "ax.set_ylabel(\"relative flux [ppm]\")\n",
    "ax.set_xlabel(\"time [days]\");"
   ]
  },
  {
   "cell_type": "markdown",
   "metadata": {},
   "source": [
    "**``Problem 4A``** Perform a simple linear least-squares fit with no regularization to de-trend the light curve, and inspect the residuals. Do you see the transit? What happened?"
   ]
  },
  {
   "cell_type": "markdown",
   "metadata": {},
   "source": [
    "For the next problem, we'll use the following least squares solver with built-in L2 regularization:"
   ]
  },
  {
   "cell_type": "code",
   "execution_count": null,
   "metadata": {},
   "outputs": [],
   "source": [
    "from regularization import L2\n",
    "print(L2.__doc__)"
   ]
  },
  {
   "cell_type": "markdown",
   "metadata": {},
   "source": [
    "**``Problem 4B``** Now do the same thing as in Problem 4A, but add an L2 regularization term. You'll probably have to experiment with different values of the regularization strength (hint: try a value of ``log_lam`` between ``3.0`` and ``6.0``). Can you find the transit now? What happens if the regularization is too strong? Too weak?"
   ]
  },
  {
   "cell_type": "markdown",
   "metadata": {},
   "source": [
    "**``Problem 4C [Bonus]``** Repeat Problem 4B, but this time first perform cross-validation to find the optimal value of the L2 regularization strength. Since we're specifically interested in recovering the transit, we should choose our cross-validation test and training sets to gauge overfitting on timescales comparable to the transit duration, which is about 0.5 days or ``750`` points. Therefore our test set should consist of a chunk of ``750`` consecutive points. There are many different such sets we can construct from our light curve, so perform this cross-validation several (10-30) times and compute the median of the optimal regularization strength over all sets. How does this value compare to the one you chose in the previous problem? De-trend the dataset using this value; are you able to recover the transit well?"
   ]
  },
  {
   "cell_type": "markdown",
   "metadata": {},
   "source": [
    "## ``Problem 5`` Searching for an exoplanet transit: joint modeling\n",
    "\n",
    "One of the classic problems with de-trending is that quite often we throw the baby out with the bathwater. When removing the systematics like we did above, we almost always end up removing a bit of the signal we actually care about, *even if we regularize properly*.\n",
    "\n",
    "One way around this is to **simultaneously** fit the systematics model and the transit model.\n",
    "\n",
    "Suppose for simplicity that we know the time of the transit and the shape of the transit exactly, but we do not know the depth. Here's the functional form of the transit model:"
   ]
  },
  {
   "cell_type": "code",
   "execution_count": null,
   "metadata": {},
   "outputs": [],
   "source": [
    "t0 = 12.0\n",
    "sig_t = 0.15\n",
    "transit_model = -np.exp(-(np.array(data[\"x\"]) - t0) ** 2 / sig_t ** 2)\n",
    "fig, ax = plt.subplots(1, figsize=(12, 4))\n",
    "ax.plot(data[\"x\"], transit_model)\n",
    "ax.set_xlabel(\"time [days]\", fontsize=20)\n",
    "ax.set_ylabel(\"transit model\", fontsize=20);"
   ]
  },
  {
   "cell_type": "markdown",
   "metadata": {},
   "source": [
    "**``Problem 5A``** Append this transit model to the last column of your design matrix, ``A``. Then perform L2-regularized least squares using the same regularization strength you determined above. Note that you want to make sure to not apply the regularization to the transit model to avoid biasing the transit depth low. If you inspect the docstring of the ``L2`` function (see above), you'll notice that it accepts a vector for ``log_lam``. So for this problem, you should use\n",
    "\n",
    "```\n",
    "log_lam = np.append(best_log_lam * np.ones(500), -np.inf)\n",
    "```\n",
    "\n",
    "where `best_log_lam` is the optimal value you found above, and the last term in the vector corresponds to zero regularization strength (i.e., minus infinity in log space). After you perform the fit, plot the data minus the systematics component of the model. How do your results compare to those of the previous problem? How does the transit depth compare?"
   ]
  }
 ],
 "metadata": {
  "kernelspec": {
   "display_name": "Python 3 (ipykernel)",
   "language": "python",
   "name": "python3"
  },
  "language_info": {
   "codemirror_mode": {
    "name": "ipython",
    "version": 3
   },
   "file_extension": ".py",
   "mimetype": "text/x-python",
   "name": "python",
   "nbconvert_exporter": "python",
   "pygments_lexer": "ipython3",
   "version": "3.8.8"
  },
  "widgets": {
   "application/vnd.jupyter.widget-state+json": {
    "state": {
     "1b28736097fd4e699f2a0773ad31e0fe": {
      "model_module": "@jupyter-widgets/base",
      "model_module_version": "1.2.0",
      "model_name": "LayoutModel",
      "state": {
       "_model_module": "@jupyter-widgets/base",
       "_model_module_version": "1.2.0",
       "_model_name": "LayoutModel",
       "_view_count": null,
       "_view_module": "@jupyter-widgets/base",
       "_view_module_version": "1.2.0",
       "_view_name": "LayoutView",
       "align_content": null,
       "align_items": null,
       "align_self": null,
       "border": null,
       "bottom": null,
       "display": null,
       "flex": null,
       "flex_flow": null,
       "grid_area": null,
       "grid_auto_columns": null,
       "grid_auto_flow": null,
       "grid_auto_rows": null,
       "grid_column": null,
       "grid_gap": null,
       "grid_row": null,
       "grid_template_areas": null,
       "grid_template_columns": null,
       "grid_template_rows": null,
       "height": null,
       "justify_content": null,
       "justify_items": null,
       "left": null,
       "margin": null,
       "max_height": null,
       "max_width": null,
       "min_height": null,
       "min_width": null,
       "object_fit": null,
       "object_position": null,
       "order": null,
       "overflow": null,
       "overflow_x": null,
       "overflow_y": null,
       "padding": null,
       "right": null,
       "top": null,
       "visibility": null,
       "width": null
      }
     },
     "247f589cda7b4c8e999003889c9fd63a": {
      "model_module": "@jupyter-widgets/controls",
      "model_module_version": "1.5.0",
      "model_name": "HBoxModel",
      "state": {
       "_dom_classes": [],
       "_model_module": "@jupyter-widgets/controls",
       "_model_module_version": "1.5.0",
       "_model_name": "HBoxModel",
       "_view_count": null,
       "_view_module": "@jupyter-widgets/controls",
       "_view_module_version": "1.5.0",
       "_view_name": "HBoxView",
       "box_style": "",
       "children": [
        "IPY_MODEL_b1970073e946471a9c4a5bca7112270c",
        "IPY_MODEL_2bba717c52c84cdfada08370d2e910c9"
       ],
       "layout": "IPY_MODEL_58e0e09f45814d8580896d48b40be1f8"
      }
     },
     "2bba717c52c84cdfada08370d2e910c9": {
      "model_module": "@jupyter-widgets/controls",
      "model_module_version": "1.5.0",
      "model_name": "IntSliderModel",
      "state": {
       "_dom_classes": [],
       "_model_module": "@jupyter-widgets/controls",
       "_model_module_version": "1.5.0",
       "_model_name": "IntSliderModel",
       "_view_count": null,
       "_view_module": "@jupyter-widgets/controls",
       "_view_module_version": "1.5.0",
       "_view_name": "IntSliderView",
       "continuous_update": false,
       "description": "",
       "description_tooltip": null,
       "disabled": false,
       "layout": "IPY_MODEL_a1a6e7d8d6ff4c6c970fae5cdaf129f7",
       "max": 14,
       "min": 0,
       "orientation": "horizontal",
       "readout": true,
       "readout_format": "d",
       "step": 1,
       "style": "IPY_MODEL_7f8bbbf7ab16493ba9314e3722b91710",
       "value": 0
      }
     },
     "3253a81743184ad998f9b42a719f1899": {
      "model_module": "@jupyter-widgets/controls",
      "model_module_version": "1.5.0",
      "model_name": "FloatSliderModel",
      "state": {
       "_dom_classes": [],
       "_model_module": "@jupyter-widgets/controls",
       "_model_module_version": "1.5.0",
       "_model_name": "FloatSliderModel",
       "_view_count": null,
       "_view_module": "@jupyter-widgets/controls",
       "_view_module_version": "1.5.0",
       "_view_name": "FloatSliderView",
       "continuous_update": false,
       "description": "Log variance",
       "description_tooltip": null,
       "disabled": false,
       "layout": "IPY_MODEL_a511fe4204c1490bb047a3b451124e2d",
       "max": 20,
       "min": -3,
       "orientation": "horizontal",
       "readout": true,
       "readout_format": ".2f",
       "step": 0.1,
       "style": "IPY_MODEL_557bb887df4a4b4390bdce2a4675aefa",
       "value": 20
      }
     },
     "3b6ccc9e4bc54b3dacb6d53a8efae5ba": {
      "model_module": "@jupyter-widgets/base",
      "model_module_version": "1.2.0",
      "model_name": "LayoutModel",
      "state": {
       "_model_module": "@jupyter-widgets/base",
       "_model_module_version": "1.2.0",
       "_model_name": "LayoutModel",
       "_view_count": null,
       "_view_module": "@jupyter-widgets/base",
       "_view_module_version": "1.2.0",
       "_view_name": "LayoutView",
       "align_content": null,
       "align_items": null,
       "align_self": null,
       "border": null,
       "bottom": null,
       "display": null,
       "flex": null,
       "flex_flow": null,
       "grid_area": null,
       "grid_auto_columns": null,
       "grid_auto_flow": null,
       "grid_auto_rows": null,
       "grid_column": null,
       "grid_gap": null,
       "grid_row": null,
       "grid_template_areas": null,
       "grid_template_columns": null,
       "grid_template_rows": null,
       "height": null,
       "justify_content": null,
       "justify_items": null,
       "left": null,
       "margin": null,
       "max_height": null,
       "max_width": null,
       "min_height": null,
       "min_width": null,
       "object_fit": null,
       "object_position": null,
       "order": null,
       "overflow": null,
       "overflow_x": null,
       "overflow_y": null,
       "padding": null,
       "right": null,
       "top": null,
       "visibility": null,
       "width": null
      }
     },
     "557bb887df4a4b4390bdce2a4675aefa": {
      "model_module": "@jupyter-widgets/controls",
      "model_module_version": "1.5.0",
      "model_name": "SliderStyleModel",
      "state": {
       "_model_module": "@jupyter-widgets/controls",
       "_model_module_version": "1.5.0",
       "_model_name": "SliderStyleModel",
       "_view_count": null,
       "_view_module": "@jupyter-widgets/base",
       "_view_module_version": "1.2.0",
       "_view_name": "StyleView",
       "description_width": "",
       "handle_color": null
      }
     },
     "58e0e09f45814d8580896d48b40be1f8": {
      "model_module": "@jupyter-widgets/base",
      "model_module_version": "1.2.0",
      "model_name": "LayoutModel",
      "state": {
       "_model_module": "@jupyter-widgets/base",
       "_model_module_version": "1.2.0",
       "_model_name": "LayoutModel",
       "_view_count": null,
       "_view_module": "@jupyter-widgets/base",
       "_view_module_version": "1.2.0",
       "_view_name": "LayoutView",
       "align_content": null,
       "align_items": null,
       "align_self": null,
       "border": null,
       "bottom": null,
       "display": null,
       "flex": null,
       "flex_flow": null,
       "grid_area": null,
       "grid_auto_columns": null,
       "grid_auto_flow": null,
       "grid_auto_rows": null,
       "grid_column": null,
       "grid_gap": null,
       "grid_row": null,
       "grid_template_areas": null,
       "grid_template_columns": null,
       "grid_template_rows": null,
       "height": null,
       "justify_content": null,
       "justify_items": null,
       "left": null,
       "margin": null,
       "max_height": null,
       "max_width": null,
       "min_height": null,
       "min_width": null,
       "object_fit": null,
       "object_position": null,
       "order": null,
       "overflow": null,
       "overflow_x": null,
       "overflow_y": null,
       "padding": null,
       "right": null,
       "top": null,
       "visibility": null,
       "width": null
      }
     },
     "601e127afd984ecab2f93cebf7342ddf": {
      "model_module": "@jupyter-widgets/controls",
      "model_module_version": "1.5.0",
      "model_name": "DescriptionStyleModel",
      "state": {
       "_model_module": "@jupyter-widgets/controls",
       "_model_module_version": "1.5.0",
       "_model_name": "DescriptionStyleModel",
       "_view_count": null,
       "_view_module": "@jupyter-widgets/base",
       "_view_module_version": "1.2.0",
       "_view_name": "StyleView",
       "description_width": ""
      }
     },
     "613affa3faf54915a308c2b170eda4e9": {
      "model_module": "@jupyter-widgets/controls",
      "model_module_version": "1.5.0",
      "model_name": "IntSliderModel",
      "state": {
       "_dom_classes": [],
       "_model_module": "@jupyter-widgets/controls",
       "_model_module_version": "1.5.0",
       "_model_name": "IntSliderModel",
       "_view_count": null,
       "_view_module": "@jupyter-widgets/controls",
       "_view_module_version": "1.5.0",
       "_view_name": "IntSliderView",
       "continuous_update": false,
       "description": "",
       "description_tooltip": null,
       "disabled": false,
       "layout": "IPY_MODEL_93b81eef2049434e9183f5556c57b0c7",
       "max": 14,
       "min": 0,
       "orientation": "horizontal",
       "readout": true,
       "readout_format": "d",
       "step": 1,
       "style": "IPY_MODEL_7b119f8e7a3a4a3a88f76d8925e4813e",
       "value": 0
      }
     },
     "7b119f8e7a3a4a3a88f76d8925e4813e": {
      "model_module": "@jupyter-widgets/controls",
      "model_module_version": "1.5.0",
      "model_name": "SliderStyleModel",
      "state": {
       "_model_module": "@jupyter-widgets/controls",
       "_model_module_version": "1.5.0",
       "_model_name": "SliderStyleModel",
       "_view_count": null,
       "_view_module": "@jupyter-widgets/base",
       "_view_module_version": "1.2.0",
       "_view_name": "StyleView",
       "description_width": "",
       "handle_color": null
      }
     },
     "7f8bbbf7ab16493ba9314e3722b91710": {
      "model_module": "@jupyter-widgets/controls",
      "model_module_version": "1.5.0",
      "model_name": "SliderStyleModel",
      "state": {
       "_model_module": "@jupyter-widgets/controls",
       "_model_module_version": "1.5.0",
       "_model_name": "SliderStyleModel",
       "_view_count": null,
       "_view_module": "@jupyter-widgets/base",
       "_view_module_version": "1.2.0",
       "_view_name": "StyleView",
       "description_width": "",
       "handle_color": null
      }
     },
     "87d93d65288f41019d9582d8d8d8bfb1": {
      "model_module": "@jupyter-widgets/controls",
      "model_module_version": "1.5.0",
      "model_name": "LinkModel",
      "state": {
       "_model_module": "@jupyter-widgets/controls",
       "_model_module_version": "1.5.0",
       "_model_name": "LinkModel",
       "_view_count": null,
       "_view_module": "@jupyter-widgets/controls",
       "_view_module_version": "1.5.0",
       "_view_name": null,
       "source": [
        "IPY_MODEL_b1970073e946471a9c4a5bca7112270c",
        "value"
       ],
       "target": [
        "IPY_MODEL_2bba717c52c84cdfada08370d2e910c9",
        "value"
       ]
      }
     },
     "93b81eef2049434e9183f5556c57b0c7": {
      "model_module": "@jupyter-widgets/base",
      "model_module_version": "1.2.0",
      "model_name": "LayoutModel",
      "state": {
       "_model_module": "@jupyter-widgets/base",
       "_model_module_version": "1.2.0",
       "_model_name": "LayoutModel",
       "_view_count": null,
       "_view_module": "@jupyter-widgets/base",
       "_view_module_version": "1.2.0",
       "_view_name": "LayoutView",
       "align_content": null,
       "align_items": null,
       "align_self": null,
       "border": null,
       "bottom": null,
       "display": null,
       "flex": null,
       "flex_flow": null,
       "grid_area": null,
       "grid_auto_columns": null,
       "grid_auto_flow": null,
       "grid_auto_rows": null,
       "grid_column": null,
       "grid_gap": null,
       "grid_row": null,
       "grid_template_areas": null,
       "grid_template_columns": null,
       "grid_template_rows": null,
       "height": null,
       "justify_content": null,
       "justify_items": null,
       "left": null,
       "margin": null,
       "max_height": null,
       "max_width": null,
       "min_height": null,
       "min_width": null,
       "object_fit": null,
       "object_position": null,
       "order": null,
       "overflow": null,
       "overflow_x": null,
       "overflow_y": null,
       "padding": null,
       "right": null,
       "top": null,
       "visibility": null,
       "width": "100%"
      }
     },
     "960516d50fe94f44bea76626eea83753": {
      "model_module": "@jupyter-widgets/controls",
      "model_module_version": "1.5.0",
      "model_name": "HBoxModel",
      "state": {
       "_dom_classes": [],
       "_model_module": "@jupyter-widgets/controls",
       "_model_module_version": "1.5.0",
       "_model_name": "HBoxModel",
       "_view_count": null,
       "_view_module": "@jupyter-widgets/controls",
       "_view_module_version": "1.5.0",
       "_view_name": "HBoxView",
       "box_style": "",
       "children": [
        "IPY_MODEL_cf565381dc244a1d890f09e7729500f3",
        "IPY_MODEL_613affa3faf54915a308c2b170eda4e9"
       ],
       "layout": "IPY_MODEL_3b6ccc9e4bc54b3dacb6d53a8efae5ba"
      }
     },
     "97d77af8cf1949ff9a7ec312ece73546": {
      "model_module": "@jupyter-widgets/controls",
      "model_module_version": "1.5.0",
      "model_name": "DescriptionStyleModel",
      "state": {
       "_model_module": "@jupyter-widgets/controls",
       "_model_module_version": "1.5.0",
       "_model_name": "DescriptionStyleModel",
       "_view_count": null,
       "_view_module": "@jupyter-widgets/base",
       "_view_module_version": "1.2.0",
       "_view_name": "StyleView",
       "description_width": ""
      }
     },
     "a1a6e7d8d6ff4c6c970fae5cdaf129f7": {
      "model_module": "@jupyter-widgets/base",
      "model_module_version": "1.2.0",
      "model_name": "LayoutModel",
      "state": {
       "_model_module": "@jupyter-widgets/base",
       "_model_module_version": "1.2.0",
       "_model_name": "LayoutModel",
       "_view_count": null,
       "_view_module": "@jupyter-widgets/base",
       "_view_module_version": "1.2.0",
       "_view_name": "LayoutView",
       "align_content": null,
       "align_items": null,
       "align_self": null,
       "border": null,
       "bottom": null,
       "display": null,
       "flex": null,
       "flex_flow": null,
       "grid_area": null,
       "grid_auto_columns": null,
       "grid_auto_flow": null,
       "grid_auto_rows": null,
       "grid_column": null,
       "grid_gap": null,
       "grid_row": null,
       "grid_template_areas": null,
       "grid_template_columns": null,
       "grid_template_rows": null,
       "height": null,
       "justify_content": null,
       "justify_items": null,
       "left": null,
       "margin": null,
       "max_height": null,
       "max_width": null,
       "min_height": null,
       "min_width": null,
       "object_fit": null,
       "object_position": null,
       "order": null,
       "overflow": null,
       "overflow_x": null,
       "overflow_y": null,
       "padding": null,
       "right": null,
       "top": null,
       "visibility": null,
       "width": "100%"
      }
     },
     "a511fe4204c1490bb047a3b451124e2d": {
      "model_module": "@jupyter-widgets/base",
      "model_module_version": "1.2.0",
      "model_name": "LayoutModel",
      "state": {
       "_model_module": "@jupyter-widgets/base",
       "_model_module_version": "1.2.0",
       "_model_name": "LayoutModel",
       "_view_count": null,
       "_view_module": "@jupyter-widgets/base",
       "_view_module_version": "1.2.0",
       "_view_name": "LayoutView",
       "align_content": null,
       "align_items": null,
       "align_self": null,
       "border": null,
       "bottom": null,
       "display": null,
       "flex": null,
       "flex_flow": null,
       "grid_area": null,
       "grid_auto_columns": null,
       "grid_auto_flow": null,
       "grid_auto_rows": null,
       "grid_column": null,
       "grid_gap": null,
       "grid_row": null,
       "grid_template_areas": null,
       "grid_template_columns": null,
       "grid_template_rows": null,
       "height": null,
       "justify_content": null,
       "justify_items": null,
       "left": null,
       "margin": null,
       "max_height": null,
       "max_width": null,
       "min_height": null,
       "min_width": null,
       "object_fit": null,
       "object_position": null,
       "order": null,
       "overflow": null,
       "overflow_x": null,
       "overflow_y": null,
       "padding": null,
       "right": null,
       "top": null,
       "visibility": null,
       "width": "100%"
      }
     },
     "b1970073e946471a9c4a5bca7112270c": {
      "model_module": "@jupyter-widgets/controls",
      "model_module_version": "1.5.0",
      "model_name": "PlayModel",
      "state": {
       "_dom_classes": [],
       "_model_module": "@jupyter-widgets/controls",
       "_model_module_version": "1.5.0",
       "_model_name": "PlayModel",
       "_playing": false,
       "_repeat": false,
       "_view_count": null,
       "_view_module": "@jupyter-widgets/controls",
       "_view_module_version": "1.5.0",
       "_view_name": "PlayView",
       "description": "Press play",
       "description_tooltip": null,
       "disabled": false,
       "interval": 1000,
       "layout": "IPY_MODEL_fdf3cc2d5c3f4053a0c2d21f704e32b0",
       "max": 30,
       "min": 0,
       "show_repeat": true,
       "step": 1,
       "style": "IPY_MODEL_601e127afd984ecab2f93cebf7342ddf",
       "value": 0
      }
     },
     "b60560ced3214f2a92a4d24acf96b529": {
      "model_module": "@jupyter-widgets/controls",
      "model_module_version": "1.5.0",
      "model_name": "LinkModel",
      "state": {
       "_model_module": "@jupyter-widgets/controls",
       "_model_module_version": "1.5.0",
       "_model_name": "LinkModel",
       "_view_count": null,
       "_view_module": "@jupyter-widgets/controls",
       "_view_module_version": "1.5.0",
       "_view_name": null,
       "source": [
        "IPY_MODEL_cf565381dc244a1d890f09e7729500f3",
        "value"
       ],
       "target": [
        "IPY_MODEL_613affa3faf54915a308c2b170eda4e9",
        "value"
       ]
      }
     },
     "ba33dca6203d47d7872e699a3c66d383": {
      "model_module": "@jupyter-widgets/output",
      "model_module_version": "1.0.0",
      "model_name": "OutputModel",
      "state": {
       "_dom_classes": [],
       "_model_module": "@jupyter-widgets/output",
       "_model_module_version": "1.0.0",
       "_model_name": "OutputModel",
       "_view_count": null,
       "_view_module": "@jupyter-widgets/output",
       "_view_module_version": "1.0.0",
       "_view_name": "OutputView",
       "layout": "IPY_MODEL_1b28736097fd4e699f2a0773ad31e0fe",
       "msg_id": "",
       "outputs": []
      }
     },
     "ba95b699548340b98be27901d90a1044": {
      "model_module": "@jupyter-widgets/base",
      "model_module_version": "1.2.0",
      "model_name": "LayoutModel",
      "state": {
       "_model_module": "@jupyter-widgets/base",
       "_model_module_version": "1.2.0",
       "_model_name": "LayoutModel",
       "_view_count": null,
       "_view_module": "@jupyter-widgets/base",
       "_view_module_version": "1.2.0",
       "_view_name": "LayoutView",
       "align_content": null,
       "align_items": null,
       "align_self": null,
       "border": null,
       "bottom": null,
       "display": null,
       "flex": null,
       "flex_flow": null,
       "grid_area": null,
       "grid_auto_columns": null,
       "grid_auto_flow": null,
       "grid_auto_rows": null,
       "grid_column": null,
       "grid_gap": null,
       "grid_row": null,
       "grid_template_areas": null,
       "grid_template_columns": null,
       "grid_template_rows": null,
       "height": null,
       "justify_content": null,
       "justify_items": null,
       "left": null,
       "margin": null,
       "max_height": null,
       "max_width": null,
       "min_height": null,
       "min_width": null,
       "object_fit": null,
       "object_position": null,
       "order": null,
       "overflow": null,
       "overflow_x": null,
       "overflow_y": null,
       "padding": null,
       "right": null,
       "top": null,
       "visibility": null,
       "width": null
      }
     },
     "cf565381dc244a1d890f09e7729500f3": {
      "model_module": "@jupyter-widgets/controls",
      "model_module_version": "1.5.0",
      "model_name": "PlayModel",
      "state": {
       "_dom_classes": [],
       "_model_module": "@jupyter-widgets/controls",
       "_model_module_version": "1.5.0",
       "_model_name": "PlayModel",
       "_playing": false,
       "_repeat": false,
       "_view_count": null,
       "_view_module": "@jupyter-widgets/controls",
       "_view_module_version": "1.5.0",
       "_view_name": "PlayView",
       "description": "Press play",
       "description_tooltip": null,
       "disabled": false,
       "interval": 1000,
       "layout": "IPY_MODEL_fc365b96e7474fd7b665fdbd2fce27c1",
       "max": 30,
       "min": 0,
       "show_repeat": true,
       "step": 1,
       "style": "IPY_MODEL_97d77af8cf1949ff9a7ec312ece73546",
       "value": 0
      }
     },
     "eeab8d008860493b96afdc600ba592d2": {
      "model_module": "@jupyter-widgets/output",
      "model_module_version": "1.0.0",
      "model_name": "OutputModel",
      "state": {
       "_dom_classes": [],
       "_model_module": "@jupyter-widgets/output",
       "_model_module_version": "1.0.0",
       "_model_name": "OutputModel",
       "_view_count": null,
       "_view_module": "@jupyter-widgets/output",
       "_view_module_version": "1.0.0",
       "_view_name": "OutputView",
       "layout": "IPY_MODEL_ba95b699548340b98be27901d90a1044",
       "msg_id": "",
       "outputs": []
      }
     },
     "fc365b96e7474fd7b665fdbd2fce27c1": {
      "model_module": "@jupyter-widgets/base",
      "model_module_version": "1.2.0",
      "model_name": "LayoutModel",
      "state": {
       "_model_module": "@jupyter-widgets/base",
       "_model_module_version": "1.2.0",
       "_model_name": "LayoutModel",
       "_view_count": null,
       "_view_module": "@jupyter-widgets/base",
       "_view_module_version": "1.2.0",
       "_view_name": "LayoutView",
       "align_content": null,
       "align_items": null,
       "align_self": null,
       "border": null,
       "bottom": null,
       "display": null,
       "flex": null,
       "flex_flow": null,
       "grid_area": null,
       "grid_auto_columns": null,
       "grid_auto_flow": null,
       "grid_auto_rows": null,
       "grid_column": null,
       "grid_gap": null,
       "grid_row": null,
       "grid_template_areas": null,
       "grid_template_columns": null,
       "grid_template_rows": null,
       "height": null,
       "justify_content": null,
       "justify_items": null,
       "left": null,
       "margin": null,
       "max_height": null,
       "max_width": null,
       "min_height": null,
       "min_width": null,
       "object_fit": null,
       "object_position": null,
       "order": null,
       "overflow": null,
       "overflow_x": null,
       "overflow_y": null,
       "padding": null,
       "right": null,
       "top": null,
       "visibility": null,
       "width": null
      }
     },
     "fdf3cc2d5c3f4053a0c2d21f704e32b0": {
      "model_module": "@jupyter-widgets/base",
      "model_module_version": "1.2.0",
      "model_name": "LayoutModel",
      "state": {
       "_model_module": "@jupyter-widgets/base",
       "_model_module_version": "1.2.0",
       "_model_name": "LayoutModel",
       "_view_count": null,
       "_view_module": "@jupyter-widgets/base",
       "_view_module_version": "1.2.0",
       "_view_name": "LayoutView",
       "align_content": null,
       "align_items": null,
       "align_self": null,
       "border": null,
       "bottom": null,
       "display": null,
       "flex": null,
       "flex_flow": null,
       "grid_area": null,
       "grid_auto_columns": null,
       "grid_auto_flow": null,
       "grid_auto_rows": null,
       "grid_column": null,
       "grid_gap": null,
       "grid_row": null,
       "grid_template_areas": null,
       "grid_template_columns": null,
       "grid_template_rows": null,
       "height": null,
       "justify_content": null,
       "justify_items": null,
       "left": null,
       "margin": null,
       "max_height": null,
       "max_width": null,
       "min_height": null,
       "min_width": null,
       "object_fit": null,
       "object_position": null,
       "order": null,
       "overflow": null,
       "overflow_x": null,
       "overflow_y": null,
       "padding": null,
       "right": null,
       "top": null,
       "visibility": null,
       "width": null
      }
     }
    },
    "version_major": 2,
    "version_minor": 0
   }
  }
 },
 "nbformat": 4,
 "nbformat_minor": 2
}
